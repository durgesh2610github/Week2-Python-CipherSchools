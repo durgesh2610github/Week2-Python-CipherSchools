{
  "nbformat": 4,
  "nbformat_minor": 0,
  "metadata": {
    "colab": {
      "provenance": []
    },
    "kernelspec": {
      "name": "python3",
      "display_name": "Python 3"
    },
    "language_info": {
      "name": "python"
    }
  },
  "cells": [
    {
      "cell_type": "code",
      "source": [
        "def func():\n",
        "  return 1+4"
      ],
      "metadata": {
        "id": "QsoyhB4U-xkO"
      },
      "execution_count": 1,
      "outputs": []
    },
    {
      "cell_type": "code",
      "source": [
        "a = func"
      ],
      "metadata": {
        "id": "FCbao81M-3XU"
      },
      "execution_count": 2,
      "outputs": []
    },
    {
      "cell_type": "code",
      "source": [
        "a()"
      ],
      "metadata": {
        "colab": {
          "base_uri": "https://localhost:8080/"
        },
        "id": "2AD7EED2-5tS",
        "outputId": "9810a868-e96d-46a3-98b0-12762ed4360e"
      },
      "execution_count": 3,
      "outputs": [
        {
          "output_type": "execute_result",
          "data": {
            "text/plain": [
              "5"
            ]
          },
          "metadata": {},
          "execution_count": 3
        }
      ]
    },
    {
      "cell_type": "code",
      "execution_count": 4,
      "metadata": {
        "colab": {
          "base_uri": "https://localhost:8080/"
        },
        "id": "9yEKv5wQ9ZiN",
        "outputId": "d3b51bd3-9ffc-445c-8c28-6bf78eb2b6f5"
      },
      "outputs": [
        {
          "output_type": "execute_result",
          "data": {
            "text/plain": [
              "3"
            ]
          },
          "metadata": {},
          "execution_count": 4
        }
      ],
      "source": [
        "#Lambda Expression\n",
        "1+2\n"
      ]
    },
    {
      "cell_type": "code",
      "source": [
        "\"jatin\" * 2"
      ],
      "metadata": {
        "colab": {
          "base_uri": "https://localhost:8080/",
          "height": 35
        },
        "id": "ZNwpc0hq9nwN",
        "outputId": "79c2c965-4f8e-4d7d-db31-4ea2d7773c19"
      },
      "execution_count": 5,
      "outputs": [
        {
          "output_type": "execute_result",
          "data": {
            "text/plain": [
              "'jatinjatin'"
            ],
            "application/vnd.google.colaboratory.intrinsic+json": {
              "type": "string"
            }
          },
          "metadata": {},
          "execution_count": 5
        }
      ]
    },
    {
      "cell_type": "code",
      "source": [
        "lambda a,b:a+b\n"
      ],
      "metadata": {
        "colab": {
          "base_uri": "https://localhost:8080/"
        },
        "id": "sTvJAgqh9nxa",
        "outputId": "52f24428-da11-463e-97ad-28a37be5e9a1"
      },
      "execution_count": 6,
      "outputs": [
        {
          "output_type": "execute_result",
          "data": {
            "text/plain": [
              "<function __main__.<lambda>(a, b)>"
            ]
          },
          "metadata": {},
          "execution_count": 6
        }
      ]
    },
    {
      "cell_type": "code",
      "source": [
        "print(\"Hello World\")"
      ],
      "metadata": {
        "colab": {
          "base_uri": "https://localhost:8080/"
        },
        "id": "a0neyGyu9nzl",
        "outputId": "99de0e6c-4b5a-4036-9d27-b11867d93bb1"
      },
      "execution_count": 7,
      "outputs": [
        {
          "output_type": "stream",
          "name": "stdout",
          "text": [
            "Hello World\n"
          ]
        }
      ]
    },
    {
      "cell_type": "code",
      "source": [
        "show = print"
      ],
      "metadata": {
        "id": "TLBjgqYu9n18"
      },
      "execution_count": 8,
      "outputs": []
    },
    {
      "cell_type": "code",
      "source": [
        "show(\"something\")"
      ],
      "metadata": {
        "colab": {
          "base_uri": "https://localhost:8080/"
        },
        "id": "TGoYZ-mZ9n4j",
        "outputId": "f85128e4-82b9-43ff-c0f7-30a1843ad1aa"
      },
      "execution_count": 9,
      "outputs": [
        {
          "output_type": "stream",
          "name": "stdout",
          "text": [
            "something\n"
          ]
        }
      ]
    },
    {
      "cell_type": "code",
      "source": [
        "int a[]={1,2,3}"
      ],
      "metadata": {
        "colab": {
          "base_uri": "https://localhost:8080/",
          "height": 131
        },
        "id": "VXz8scxuAL6z",
        "outputId": "85927623-3b14-4cab-d60d-dcd095ad5894"
      },
      "execution_count": 10,
      "outputs": [
        {
          "output_type": "error",
          "ename": "SyntaxError",
          "evalue": "ignored",
          "traceback": [
            "\u001b[0;36m  File \u001b[0;32m\"<ipython-input-10-1375ebb83a81>\"\u001b[0;36m, line \u001b[0;32m1\u001b[0m\n\u001b[0;31m    int a[]={1,2,3}\u001b[0m\n\u001b[0m        ^\u001b[0m\n\u001b[0;31mSyntaxError\u001b[0m\u001b[0;31m:\u001b[0m invalid syntax\n"
          ]
        }
      ]
    },
    {
      "cell_type": "code",
      "source": [
        "names=[\"jatin\",\"saransh\",\"shubham\",\"samarth\"]"
      ],
      "metadata": {
        "id": "NeK-2FGl-veb"
      },
      "execution_count": 11,
      "outputs": []
    },
    {
      "cell_type": "code",
      "source": [
        "for i, name in enumerate(names):\n",
        "  print(i,\"-\",name)"
      ],
      "metadata": {
        "colab": {
          "base_uri": "https://localhost:8080/"
        },
        "id": "W6d9U7y29n7J",
        "outputId": "2648921d-4944-421d-c3cd-c9ef2cd94d54"
      },
      "execution_count": 12,
      "outputs": [
        {
          "output_type": "stream",
          "name": "stdout",
          "text": [
            "0 - jatin\n",
            "1 - saransh\n",
            "2 - shubham\n",
            "3 - samarth\n"
          ]
        }
      ]
    },
    {
      "cell_type": "code",
      "source": [
        "names=[\"jatin\",\"saransh\",\"shubham\",\"samarth\"]\n",
        "scores=[50,80,90,70]\n",
        "states=[\"delhi\",\"punjab\",\"punjab\",\"punjab\"],\n",
        "for name,score, state in zip(names,scores,states):\n",
        "  print(name,\"-\",score,state)\n",
        "\n"
      ],
      "metadata": {
        "colab": {
          "base_uri": "https://localhost:8080/"
        },
        "id": "WUfVI79YCaRb",
        "outputId": "3a00b86c-f32c-4ec7-9388-ac703cca9fee"
      },
      "execution_count": 13,
      "outputs": [
        {
          "output_type": "stream",
          "name": "stdout",
          "text": [
            "jatin - 50 ['delhi', 'punjab', 'punjab', 'punjab']\n"
          ]
        }
      ]
    },
    {
      "cell_type": "code",
      "source": [
        "#packing and unpacking values\n"
      ],
      "metadata": {
        "id": "RbEjW5BUAyZu"
      },
      "execution_count": 15,
      "outputs": []
    },
    {
      "cell_type": "code",
      "source": [
        "a=1,2"
      ],
      "metadata": {
        "id": "4I5mc19IBVer"
      },
      "execution_count": 20,
      "outputs": []
    },
    {
      "cell_type": "code",
      "source": [
        "print(type(a))"
      ],
      "metadata": {
        "colab": {
          "base_uri": "https://localhost:8080/"
        },
        "id": "c32CuOQNBVYB",
        "outputId": "95b7367e-a210-4426-fe08-2037552351d9"
      },
      "execution_count": 21,
      "outputs": [
        {
          "output_type": "stream",
          "name": "stdout",
          "text": [
            "<class 'tuple'>\n"
          ]
        }
      ]
    },
    {
      "cell_type": "code",
      "source": [
        "a=5\n",
        "b=9\n",
        "a,b=b,a\n",
        "print(a,b)"
      ],
      "metadata": {
        "colab": {
          "base_uri": "https://localhost:8080/"
        },
        "id": "_rEuc1ZjBVNY",
        "outputId": "dd1908cf-b0d4-47b0-d90b-4009177f1776"
      },
      "execution_count": 22,
      "outputs": [
        {
          "output_type": "stream",
          "name": "stdout",
          "text": [
            "9 5\n"
          ]
        }
      ]
    },
    {
      "cell_type": "code",
      "source": [
        "a=5\n",
        "b=9\n",
        "temp=a\n",
        "a=b\n",
        "b=temp"
      ],
      "metadata": {
        "id": "QoX7RAQc9n9v"
      },
      "execution_count": 24,
      "outputs": []
    }
  ]
}
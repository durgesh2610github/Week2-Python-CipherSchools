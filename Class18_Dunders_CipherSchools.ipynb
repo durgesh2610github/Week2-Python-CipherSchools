{
  "nbformat": 4,
  "nbformat_minor": 0,
  "metadata": {
    "colab": {
      "provenance": []
    },
    "kernelspec": {
      "name": "python3",
      "display_name": "Python 3"
    },
    "language_info": {
      "name": "python"
    }
  },
  "cells": [
    {
      "cell_type": "code",
      "execution_count": 1,
      "metadata": {
        "colab": {
          "base_uri": "https://localhost:8080/"
        },
        "id": "xHBEnNH7jTsU",
        "outputId": "1470fc55-21be-4cdd-8cd1-c2da8d85f558"
      },
      "outputs": [
        {
          "output_type": "stream",
          "name": "stdout",
          "text": [
            "hello, my name is Nikhil\n"
          ]
        }
      ],
      "source": [
        "# Dunders(magic methods)(event methods)\n",
        "#__<name of dunder>__\n",
        "class Person:\n",
        "  def __init__(self,name):\n",
        "    self.name=name\n",
        "  def say_hi(self):\n",
        "      print('hello, my name is',self.name)\n",
        "P=Person('Nikhil')\n",
        "P.say_hi()"
      ]
    },
    {
      "cell_type": "code",
      "source": [
        "class A:\n",
        "  def __init__(self):\n",
        "    print(self)\n",
        "    print(\"initialized\")\n",
        "  def __del__(self):\n",
        "    print(self)\n",
        "    print(\"I am dying\")\n",
        "a=A()"
      ],
      "metadata": {
        "colab": {
          "base_uri": "https://localhost:8080/"
        },
        "id": "Ed2DbXxInMod",
        "outputId": "64156969-5e9a-4cec-fdcb-15889ee291d2"
      },
      "execution_count": 2,
      "outputs": [
        {
          "output_type": "stream",
          "name": "stdout",
          "text": [
            "<__main__.A object at 0x7fe3647a4640>\n",
            "initialized\n"
          ]
        }
      ]
    },
    {
      "cell_type": "code",
      "source": [
        "a=1\n",
        "print(type(a))\n",
        "a+5\n",
        "a.__add__(5)"
      ],
      "metadata": {
        "colab": {
          "base_uri": "https://localhost:8080/"
        },
        "id": "bTyPZKhqenYU",
        "outputId": "6c515c53-3ffb-484e-bb00-3f87e31e3783"
      },
      "execution_count": 3,
      "outputs": [
        {
          "output_type": "stream",
          "name": "stdout",
          "text": [
            "<__main__.A object at 0x7fe3647a4640>\n",
            "I am dying\n",
            "<class 'int'>\n"
          ]
        },
        {
          "output_type": "execute_result",
          "data": {
            "text/plain": [
              "6"
            ]
          },
          "metadata": {},
          "execution_count": 3
        }
      ]
    },
    {
      "cell_type": "code",
      "source": [
        "\"jatin\"*2"
      ],
      "metadata": {
        "colab": {
          "base_uri": "https://localhost:8080/",
          "height": 35
        },
        "id": "XgRIJ3fAezGr",
        "outputId": "000a1a2a-0e9e-49a6-d2b5-af5266885edd"
      },
      "execution_count": 4,
      "outputs": [
        {
          "output_type": "execute_result",
          "data": {
            "text/plain": [
              "'jatinjatin'"
            ],
            "application/vnd.google.colaboratory.intrinsic+json": {
              "type": "string"
            }
          },
          "metadata": {},
          "execution_count": 4
        }
      ]
    },
    {
      "cell_type": "code",
      "source": [
        "\"jatin\".__mul__(2)"
      ],
      "metadata": {
        "colab": {
          "base_uri": "https://localhost:8080/",
          "height": 35
        },
        "id": "SU6GTRf-e4Cb",
        "outputId": "7f1235f6-7085-4357-f67d-86414a7f3586"
      },
      "execution_count": 5,
      "outputs": [
        {
          "output_type": "execute_result",
          "data": {
            "text/plain": [
              "'jatinjatin'"
            ],
            "application/vnd.google.colaboratory.intrinsic+json": {
              "type": "string"
            }
          },
          "metadata": {},
          "execution_count": 5
        }
      ]
    },
    {
      "cell_type": "code",
      "source": [
        "class A:\n",
        "  a=1\n",
        "  b=2\n",
        "\n",
        "  def __add__(self,x):\n",
        "    return self.a+self.b+x\n",
        "a=A()\n",
        "a+3"
      ],
      "metadata": {
        "colab": {
          "base_uri": "https://localhost:8080/"
        },
        "id": "VfIplu_ynxbA",
        "outputId": "3f77c87d-3dc8-43b8-bf50-3c3c2d984a96"
      },
      "execution_count": 6,
      "outputs": [
        {
          "output_type": "execute_result",
          "data": {
            "text/plain": [
              "6"
            ]
          },
          "metadata": {},
          "execution_count": 6
        }
      ]
    }
  ]
}
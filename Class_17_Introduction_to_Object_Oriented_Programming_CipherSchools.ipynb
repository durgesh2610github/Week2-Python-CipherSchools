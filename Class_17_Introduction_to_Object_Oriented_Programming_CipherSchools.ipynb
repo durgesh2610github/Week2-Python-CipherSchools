{
  "nbformat": 4,
  "nbformat_minor": 0,
  "metadata": {
    "colab": {
      "provenance": []
    },
    "kernelspec": {
      "name": "python3",
      "display_name": "Python 3"
    },
    "language_info": {
      "name": "python"
    }
  },
  "cells": [
    {
      "cell_type": "code",
      "execution_count": 1,
      "metadata": {
        "id": "j8KUppz96bCm"
      },
      "outputs": [],
      "source": [
        "#object orientated programming language"
      ]
    },
    {
      "cell_type": "code",
      "source": [
        "#Abstraction\n",
        "#Encapsulation\n",
        "#inheitence\n",
        "#polymorphism"
      ],
      "metadata": {
        "id": "tpmpGg-2NTHC"
      },
      "execution_count": 2,
      "outputs": []
    },
    {
      "cell_type": "code",
      "source": [
        "#Abstraction = need to know basis"
      ],
      "metadata": {
        "id": "nrxsU8TwOMeO"
      },
      "execution_count": 3,
      "outputs": []
    },
    {
      "cell_type": "code",
      "source": [
        "student1 = {\n",
        "    \"name\":\"Jatin Katyal\",\n",
        "    \"marks\": 50\n",
        "}\n",
        "student2 = {\n",
        "    \"name\": \"Samarth\",\n",
        "    \"marks\": 100\n",
        "}"
      ],
      "metadata": {
        "id": "KL3ueidENTJd"
      },
      "execution_count": 4,
      "outputs": []
    },
    {
      "cell_type": "code",
      "source": [
        "print()"
      ],
      "metadata": {
        "colab": {
          "base_uri": "https://localhost:8080/"
        },
        "id": "rdXhxGYANTMF",
        "outputId": "81ba4a8d-463b-4805-acae-e4177a6d59f6"
      },
      "execution_count": 5,
      "outputs": [
        {
          "output_type": "stream",
          "name": "stdout",
          "text": [
            "\n"
          ]
        }
      ]
    },
    {
      "cell_type": "code",
      "source": [
        "#A minimal example of class"
      ],
      "metadata": {
        "id": "RW5xEosuOn_q"
      },
      "execution_count": 6,
      "outputs": []
    },
    {
      "cell_type": "code",
      "source": [
        "#python object can have multiple attributes\n",
        "\n",
        "#-collable(e.g. functions and classes)\n",
        "#-iterable(e.g. list,string and generator)\n",
        "#-contextable(e.g. files)"
      ],
      "metadata": {
        "id": "UwcLvhEMOrEC"
      },
      "execution_count": 7,
      "outputs": []
    },
    {
      "cell_type": "code",
      "source": [
        "a()"
      ],
      "metadata": {
        "colab": {
          "base_uri": "https://localhost:8080/",
          "height": 198
        },
        "id": "dxuicpZ-On5-",
        "outputId": "aad15533-fa43-4956-f199-32f217c2894a"
      },
      "execution_count": null,
      "outputs": [
        {
          "output_type": "error",
          "ename": "NameError",
          "evalue": "ignored",
          "traceback": [
            "\u001b[0;31m---------------------------------------------------------------------------\u001b[0m",
            "\u001b[0;31mNameError\u001b[0m                                 Traceback (most recent call last)",
            "\u001b[0;32m<ipython-input-8-8d7b4527e81d>\u001b[0m in \u001b[0;36m<module>\u001b[0;34m\u001b[0m\n\u001b[0;32m----> 1\u001b[0;31m \u001b[0ma\u001b[0m\u001b[0;34m(\u001b[0m\u001b[0;34m)\u001b[0m\u001b[0;34m\u001b[0m\u001b[0;34m\u001b[0m\u001b[0m\n\u001b[0m",
            "\u001b[0;31mNameError\u001b[0m: name 'a' is not defined"
          ]
        }
      ]
    },
    {
      "cell_type": "code",
      "source": [
        "class person:\n",
        "  pass\n",
        "\n",
        "p = person()\n",
        "print(p)"
      ],
      "metadata": {
        "colab": {
          "base_uri": "https://localhost:8080/"
        },
        "id": "s_aa_zXENTOs",
        "outputId": "9498c8f0-e31d-4d5b-b981-c2f7b349c930"
      },
      "execution_count": 8,
      "outputs": [
        {
          "output_type": "stream",
          "name": "stdout",
          "text": [
            "<__main__.person object at 0x7f8a64ebc910>\n"
          ]
        }
      ]
    },
    {
      "cell_type": "code",
      "source": [
        "hex(id(p))"
      ],
      "metadata": {
        "colab": {
          "base_uri": "https://localhost:8080/",
          "height": 35
        },
        "id": "rJIG8RUnNTRD",
        "outputId": "5c7da337-e1bd-48af-814a-fd381c7f258f"
      },
      "execution_count": 9,
      "outputs": [
        {
          "output_type": "execute_result",
          "data": {
            "text/plain": [
              "'0x7f8a64ebc910'"
            ],
            "application/vnd.google.colaboratory.intrinsic+json": {
              "type": "string"
            }
          },
          "metadata": {},
          "execution_count": 9
        }
      ]
    },
    {
      "cell_type": "code",
      "source": [],
      "metadata": {
        "id": "Xynswa5FNTTp"
      },
      "execution_count": 9,
      "outputs": []
    },
    {
      "cell_type": "code",
      "source": [
        "a=1"
      ],
      "metadata": {
        "id": "oteimJHMNTWP"
      },
      "execution_count": 10,
      "outputs": []
    },
    {
      "cell_type": "code",
      "source": [
        "a.square"
      ],
      "metadata": {
        "colab": {
          "base_uri": "https://localhost:8080/",
          "height": 166
        },
        "id": "9dstxCWWNTY3",
        "outputId": "391dbd36-7a40-413d-cf67-8c99324e0671"
      },
      "execution_count": 11,
      "outputs": [
        {
          "output_type": "error",
          "ename": "AttributeError",
          "evalue": "ignored",
          "traceback": [
            "\u001b[0;31m---------------------------------------------------------------------------\u001b[0m",
            "\u001b[0;31mAttributeError\u001b[0m                            Traceback (most recent call last)",
            "\u001b[0;32m<ipython-input-11-1258e99bc9c6>\u001b[0m in \u001b[0;36m<module>\u001b[0;34m\u001b[0m\n\u001b[0;32m----> 1\u001b[0;31m \u001b[0ma\u001b[0m\u001b[0;34m.\u001b[0m\u001b[0msquare\u001b[0m\u001b[0;34m\u001b[0m\u001b[0;34m\u001b[0m\u001b[0m\n\u001b[0m",
            "\u001b[0;31mAttributeError\u001b[0m: 'int' object has no attribute 'square'"
          ]
        }
      ]
    },
    {
      "cell_type": "code",
      "source": [],
      "metadata": {
        "id": "HBa75Mg-NTbO"
      },
      "execution_count": null,
      "outputs": []
    },
    {
      "cell_type": "code",
      "source": [
        "class person:\n",
        "  name=\"Jatin\"\n",
        "  def say_hi(self):\n",
        "    self.name=\"Nikhil\"\n",
        "    print(\"Hello,how are you\"+self.name +\"2\")\n",
        "\n",
        "p=person()\n",
        "\n",
        "p.say_hi\n",
        "person.say_hi(p)"
      ],
      "metadata": {
        "colab": {
          "base_uri": "https://localhost:8080/"
        },
        "id": "FpCc8LljNTd0",
        "outputId": "80fdeeed-b1d5-4f81-ff75-89f135b3db89"
      },
      "execution_count": 12,
      "outputs": [
        {
          "output_type": "stream",
          "name": "stdout",
          "text": [
            "Hello,how are youNikhil2\n"
          ]
        }
      ]
    },
    {
      "cell_type": "code",
      "source": [
        "class person:\n",
        "  name=\"Jatin\"\n",
        "\n",
        "  def say_hi(this):\n",
        "    print(f\"Hello Everyone : I am {this.name}\" )\n",
        "\n",
        "p=person()\n",
        "\n",
        "p.say_hi #method cell\n",
        "person.say_hi(p) # function call"
      ],
      "metadata": {
        "colab": {
          "base_uri": "https://localhost:8080/"
        },
        "id": "W0I4d3MWNTgK",
        "outputId": "60ee8320-a73f-47bc-cfdb-5ed039e33588"
      },
      "execution_count": 14,
      "outputs": [
        {
          "output_type": "stream",
          "name": "stdout",
          "text": [
            "Hello Everyone : I am Jatin\n"
          ]
        }
      ]
    }
  ]
}